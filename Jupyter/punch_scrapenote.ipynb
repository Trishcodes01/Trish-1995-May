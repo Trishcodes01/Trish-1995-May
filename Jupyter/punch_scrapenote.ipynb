{
 "cells": [
  {
   "cell_type": "code",
   "execution_count": 3,
   "id": "271c2d90",
   "metadata": {},
   "outputs": [],
   "source": [
    "import bs4\n",
    "import requests"
   ]
  },
  {
   "cell_type": "code",
   "execution_count": 5,
   "id": "4165db3d",
   "metadata": {},
   "outputs": [],
   "source": [
    "soup = bs4.BeautifulSoup\n"
   ]
  },
  {
   "cell_type": "code",
   "execution_count": 6,
   "id": "dfd62c05",
   "metadata": {},
   "outputs": [],
   "source": [
    "response = requests.get(\"https://punchng.com/pdp-demands-matawalles-resignation-over-zamfara-kidnappings-killings/\")"
   ]
  },
  {
   "cell_type": "code",
   "execution_count": 7,
   "id": "bb1228fa",
   "metadata": {},
   "outputs": [
    {
     "data": {
      "text/plain": [
       "[<p class=\"site-title\"><a href=\"https://punchng.com/\" rel=\"home\">Punch Newspapers</a></p>,\n",
       " <p>punchng.com © 1971-2020 The Punch newspaper</p>,\n",
       " <p>Zamfara State Governor, Bello Matawalle</p>,\n",
       " <p style=\"text-align: justify;\">The Deputy Chairman of the Peoples Democratic Party in Zamfara State, Prof Kabir Jabaka, has called on the state governor, Bello Matawalle, to rise up to his responsibility of securing the state in the face of persistent kidnapping and killings of innocent people.\n",
       " </p>,\n",
       " <p style=\"text-align: justify;\">He also called for the governor’s resignation in the face of insecurity in the state.\n",
       " </p>,\n",
       " <p style=\"text-align: justify;\">Jabaka made the call when he addressed journalists on the security situation in the state at the PDP state’s secretariat in Gusau on Monday.\n",
       " </p>,\n",
       " <p style=\"text-align: justify;\">“There are enough pieces of evidence to show that the current leadership in the state is insensitive to the alarming loss of innocent lives, continuous burning of private belongings and food items in almost every community across the state,” he said.</p>,\n",
       " <p style=\"text-align: justify;\">He added, “He (Matawalle) was busy watching the annual wrestling festival in Niger Republic, leaving the people of his state in perpetual fear of killer bandits, hunger and ravaging poverty.”</p>,\n",
       " <p style=\"text-align: justify;\">Jabaka reminded the governor that the protection of lives and property of the people should remain the primary responsibility of any sensitive leadership as enshrined in the constitution.\n",
       " </p>,\n",
       " <p style=\"text-align: justify;\">“Our state is bleeding under the grip of killer bandits, and until the government wakes up from its slumber, Zamfara will continue heading towards economic ruins,” he concluded.\n",
       " </p>,\n",
       " <p style=\"text-align: justify;\"><strong>Copyright PUNCH.</strong></p>,\n",
       " <p style=\"text-align: justify;\"><em>All rights reserved. This material, and other digital content on this website, may not be reproduced, published, broadcast, rewritten or redistributed in whole or in part without prior express written permission from PUNCH. </em></p>,\n",
       " <p style=\"text-align: justify;\"><strong>Contact: </strong><a href=\"/cdn-cgi/l/email-protection#5b2f333e3e3f322f34291b2b2e353833353c75383436\"><strong><span class=\"__cf_email__\" data-cfemail=\"20544845454449544f526050554e43484e470e434f4d\">[email protected]</span></strong></a>\n",
       " </p>,\n",
       " <p class=\"site-info\">punchng.com © 1971-2022 The Punch Newspaper</p>,\n",
       " <p>By submitting you agree to our <span class=\"privacy\"><a href=\"https://punchng.com/privacy-policy/\">privacy policy</a></span></p>]"
      ]
     },
     "execution_count": 7,
     "metadata": {},
     "output_type": "execute_result"
    }
   ],
   "source": [
    "categories = soup(response.text).find_all(\"p\")\n",
    "categories"
   ]
  },
  {
   "cell_type": "code",
   "execution_count": 8,
   "id": "25bebbb6",
   "metadata": {},
   "outputs": [
    {
     "name": "stdout",
     "output_type": "stream",
     "text": [
      "Punch Newspapers\n",
      "punchng.com © 1971-2020 The Punch newspaper\n",
      "Zamfara State Governor, Bello Matawalle\n",
      "The Deputy Chairman of the Peoples Democratic Party in Zamfara State, Prof Kabir Jabaka, has called on the state governor, Bello Matawalle, to rise up to his responsibility of securing the state in the face of persistent kidnapping and killings of innocent people.\n",
      "\n",
      "He also called for the governor’s resignation in the face of insecurity in the state.\n",
      "\n",
      "Jabaka made the call when he addressed journalists on the security situation in the state at the PDP state’s secretariat in Gusau on Monday.\n",
      "\n",
      "“There are enough pieces of evidence to show that the current leadership in the state is insensitive to the alarming loss of innocent lives, continuous burning of private belongings and food items in almost every community across the state,” he said.\n",
      "He added, “He (Matawalle) was busy watching the annual wrestling festival in Niger Republic, leaving the people of his state in perpetual fear of killer bandits, hunger and ravaging poverty.”\n",
      "Jabaka reminded the governor that the protection of lives and property of the people should remain the primary responsibility of any sensitive leadership as enshrined in the constitution.\n",
      "\n",
      "“Our state is bleeding under the grip of killer bandits, and until the government wakes up from its slumber, Zamfara will continue heading towards economic ruins,” he concluded.\n",
      "\n",
      "Copyright PUNCH.\n",
      "All rights reserved. This material, and other digital content on this website, may not be reproduced, published, broadcast, rewritten or redistributed in whole or in part without prior express written permission from PUNCH. \n",
      "Contact: [email protected]\n",
      "\n",
      "punchng.com © 1971-2022 The Punch Newspaper\n",
      "By submitting you agree to our privacy policy\n"
     ]
    }
   ],
   "source": [
    "for category in categories:\n",
    "    print(category.text)"
   ]
  },
  {
   "cell_type": "code",
   "execution_count": null,
   "id": "adc3ca81",
   "metadata": {},
   "outputs": [],
   "source": []
  }
 ],
 "metadata": {
  "kernelspec": {
   "display_name": "Python 3 (ipykernel)",
   "language": "python",
   "name": "python3"
  },
  "language_info": {
   "codemirror_mode": {
    "name": "ipython",
    "version": 3
   },
   "file_extension": ".py",
   "mimetype": "text/x-python",
   "name": "python",
   "nbconvert_exporter": "python",
   "pygments_lexer": "ipython3",
   "version": "3.7.9"
  }
 },
 "nbformat": 4,
 "nbformat_minor": 5
}
